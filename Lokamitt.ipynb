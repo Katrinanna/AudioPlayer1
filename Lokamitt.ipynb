{
  "nbformat": 4,
  "nbformat_minor": 0,
  "metadata": {
    "colab": {
      "provenance": [],
      "authorship_tag": "ABX9TyNbrWLwyFR0tEP8A+RDRexw",
      "include_colab_link": true
    },
    "kernelspec": {
      "name": "python3",
      "display_name": "Python 3"
    },
    "language_info": {
      "name": "python"
    }
  },
  "cells": [
    {
      "cell_type": "markdown",
      "metadata": {
        "id": "view-in-github",
        "colab_type": "text"
      },
      "source": [
        "<a href=\"https://colab.research.google.com/github/Katrinanna/AudioPlayer1/blob/master/Lokamitt.ipynb\" target=\"_parent\"><img src=\"https://colab.research.google.com/assets/colab-badge.svg\" alt=\"Open In Colab\"/></a>"
      ]
    },
    {
      "cell_type": "code",
      "execution_count": 4,
      "metadata": {
        "colab": {
          "base_uri": "https://localhost:8080/"
        },
        "id": "j2mc-HP6aECn",
        "outputId": "75b48ade-4cde-4800-a562-0e8741a6b8be"
      },
      "outputs": [
        {
          "output_type": "stream",
          "name": "stdout",
          "text": [
            "Node 12885866:\n",
            "{'x': -21.9374735, 'y': 64.0672714, 'primary': False}\n",
            "\n",
            "Edges from 12885866:\n",
            "[('12885923', 18.99201549233219, 'Hlíðartorg'), ('1573411414', 653.6661452252208, 'Reykjanesbraut')]\n",
            "\n",
            "Types:\n",
            "<class 'float'>\n",
            "<class 'float'>\n",
            "<class 'bool'>\n",
            "<class 'float'>\n",
            "<class 'str'>\n",
            "\n",
            "Edges from 12885925:\n",
            "No outgoing edges\n",
            "Total nodes: 10984\n",
            "Total edges: 22320\n"
          ]
        }
      ],
      "source": [
        "import csv\n",
        "\n",
        "def parse_nodes(file_path):\n",
        "    nodes = {}\n",
        "    with open(file_path, 'r', encoding='utf-8') as f:\n",
        "        reader = csv.reader(f, delimiter='\\t')\n",
        "        next(reader)  # Skip header\n",
        "        for row in reader:\n",
        "            node_id = row[0]\n",
        "            x = float(row[1])\n",
        "            y = float(row[2])\n",
        "            primary = row[3].lower() == 'true'\n",
        "            nodes[node_id] = {'x': x, 'y': y, 'primary': primary}\n",
        "    return nodes\n",
        "\n",
        "def parse_edges(file_path):\n",
        "    graph = {}\n",
        "    with open(file_path, 'r', encoding='utf-8') as f:\n",
        "        reader = csv.reader(f, delimiter='\\t')\n",
        "        next(reader)  # Skip header\n",
        "        for row in reader:\n",
        "            u = row[0]\n",
        "            v = row[1]\n",
        "            length = float(row[2])\n",
        "            name = row[3].strip()\n",
        "            if u not in graph:\n",
        "                graph[u] = []\n",
        "            graph[u].append((v, length, name))\n",
        "    return graph\n",
        "\n",
        "\n",
        "nodes = parse_nodes('/content/drive/MyDrive/main_files/nodes.tsv')\n",
        "edges = parse_edges('/content/drive/MyDrive/main_files/edges.tsv')\n",
        "\n",
        "\n",
        "#Tests\n",
        "\n",
        "#prints specific node and edges from it.\n",
        "print(\"Node 12885866:\")\n",
        "print(nodes.get('12885866', 'Not Found'))\n",
        "\n",
        "print(\"\\nEdges from 12885866:\")\n",
        "print(edges.get('12885866', 'No outgoing edges'))\n",
        "\n",
        "\n",
        "# Check types for node and types of edges\n",
        "node_data = nodes['12885866']\n",
        "print(\"\\nTypes:\")\n",
        "print(type(node_data['x']))\n",
        "print(type(node_data['y']))\n",
        "print(type(node_data['primary']))\n",
        "\n",
        "edge_data = edges['12885866'][0]\n",
        "print(type(edge_data[1]))\n",
        "print(type(edge_data[2]))\n",
        "\n",
        "# check nodes with no outging edged\n",
        "print(\"\\nEdges from 12885925:\")\n",
        "print(edges.get('12885925', 'No outgoing edges'))\n",
        "\n",
        "#check counted nodes and edges, '+1' til þess að byrja að telja frá 1 en ekki 0\n",
        "print(f\"Total nodes: {len(nodes)+1}\")\n",
        "print(f\"Total edges: {sum(len(v) for v in edges.values())+1}\")"
      ]
    },
    {
      "cell_type": "code",
      "source": [
        "import os\n",
        "print(os.getcwd())"
      ],
      "metadata": {
        "id": "uiOggs74guw9",
        "outputId": "a66b7a7c-2616-4c0c-a662-652cfa722aca",
        "colab": {
          "base_uri": "https://localhost:8080/"
        }
      },
      "execution_count": null,
      "outputs": [
        {
          "output_type": "stream",
          "name": "stdout",
          "text": [
            "/content\n"
          ]
        }
      ]
    },
    {
      "cell_type": "code",
      "source": [
        "import heapq\n",
        "\n",
        "def build_reversed_graph(original_graph):\n",
        "    reversed_graph = {}\n",
        "    for u in original_graph:\n",
        "        for (v, length, name) in original_graph[u]:\n",
        "            if v not in reversed_graph:\n",
        "                reversed_graph[v] = []\n",
        "            reversed_graph[v].append((u, length, name))\n",
        "    return reversed_graph\n",
        "\n",
        "def shortest_distance_to_charging_stations(nodes, original_graph, charging_stations):\n",
        "    reversed_graph = build_reversed_graph(original_graph)\n",
        "\n",
        "    distances = {node_id: float('inf') for node_id in nodes}\n",
        "    priority_queue = []\n",
        "\n",
        "    for station in charging_stations:\n",
        "        if station in distances:\n",
        "            distances[station] = 0\n",
        "            heapq.heappush(priority_queue, (0, station))\n",
        "\n",
        "    while priority_queue:\n",
        "        current_dist, u = heapq.heappop(priority_queue)\n",
        "\n",
        "        if current_dist > distances[u]:\n",
        "            continue\n",
        "\n",
        "        for (v, length, _) in reversed_graph.get(u, []):\n",
        "            alt_dist = current_dist + length\n",
        "\n",
        "            if alt_dist < distances[v]:\n",
        "                distances[v] = alt_dist\n",
        "                heapq.heappush(priority_queue, (alt_dist, v))\n",
        "\n",
        "    return distances\n",
        "\n",
        "\n",
        "charging_stations = ['12885866', '12885876']\n",
        "\n",
        "distances = shortest_distance_to_charging_stations(nodes, edges, charging_stations)\n",
        "\n",
        "for node_id in list(distances.keys())[:5]:\n",
        "    print(f\"Node {node_id}: Distance = {distances[node_id]} meters\")"
      ],
      "metadata": {
        "id": "ZewrKhwjaLtJ",
        "colab": {
          "base_uri": "https://localhost:8080/"
        },
        "outputId": "008b10d7-4023-4773-be9a-8956be50b848"
      },
      "execution_count": 5,
      "outputs": [
        {
          "output_type": "stream",
          "name": "stdout",
          "text": [
            "Node 12885866: Distance = 0 meters\n",
            "Node 12885876: Distance = 0 meters\n",
            "Node 12885922: Distance = 8750.436798271217 meters\n",
            "Node 12885923: Distance = 119.34575617626875 meters\n",
            "Node 12885924: Distance = 91.39648948735388 meters\n"
          ]
        }
      ]
    },
    {
      "cell_type": "code",
      "source": [],
      "metadata": {
        "id": "K88uhM2p1lPc"
      },
      "execution_count": null,
      "outputs": []
    },
    {
      "cell_type": "code",
      "source": [],
      "metadata": {
        "id": "KtH84h0r1lf6"
      },
      "execution_count": null,
      "outputs": []
    },
    {
      "cell_type": "code",
      "source": [
        "from google.colab import drive\n",
        "drive.mount('/content/drive')"
      ],
      "metadata": {
        "id": "-OSsVGqraL7d",
        "colab": {
          "base_uri": "https://localhost:8080/"
        },
        "outputId": "6e811217-f16d-47a6-c0be-6909f1efdc93"
      },
      "execution_count": 2,
      "outputs": [
        {
          "output_type": "stream",
          "name": "stdout",
          "text": [
            "Mounted at /content/drive\n"
          ]
        }
      ]
    }
  ]
}